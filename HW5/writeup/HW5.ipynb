{
 "cells": [
  {
   "cell_type": "code",
   "execution_count": null,
   "metadata": {},
   "outputs": [],
   "source": [
    "import numpy as np\n",
    "import matplotlib.pyplot as plt"
   ]
  },
  {
   "cell_type": "code",
   "execution_count": null,
   "metadata": {},
   "outputs": [],
   "source": [
    "plt.rcParams['font.size'] = 14\n",
    "plt.rcParams['axes.grid'] = True\n",
    "plt.rcParams['figure.figsize'] = (13,10)"
   ]
  },
  {
   "cell_type": "markdown",
   "metadata": {},
   "source": [
    "# Problem 2"
   ]
  },
  {
   "cell_type": "markdown",
   "metadata": {},
   "source": [
    "The empirical risk is given by $\\mathbf{E}[\\ell(y, \\hat{y}) | x]$, where the expectation is taken over $y$. For a margin based loss function, we have the form $\\mathbf{E}[\\ell(y\\hat{y}) | x]$"
   ]
  },
  {
   "cell_type": "markdown",
   "metadata": {},
   "source": [
    "### Problem 2.1"
   ]
  },
  {
   "cell_type": "markdown",
   "metadata": {},
   "source": [
    "If our prediction is given by $\\hat{y} = f(x)$ and $\\pi(x) = p(y=1|x)$ then we can write the empirical risk as \n",
    "\n",
    "$$\n",
    "\\begin{align*}\n",
    "\\mathbf{E}[\\ell(yf(x)|x] &= p(y=1|x)\\ell(f(x)) + p(y=-1|x)\\ell(-f(x))\\\\\n",
    "&= \\pi(x)\\ell(f(x)) + (1-\\pi(x))\\ell(-f(x))\\\\\n",
    "&= \\ell(-f(x)) + \\pi(x)(\\ell(f(x)) - \\ell(-f(x))\n",
    "\\end{align*}\n",
    "$$"
   ]
  },
  {
   "cell_type": "markdown",
   "metadata": {},
   "source": [
    "### Problem 2.2"
   ]
  },
  {
   "cell_type": "markdown",
   "metadata": {},
   "source": [
    "The exponential loss is given by $\\ell(y,f(x)) = e^{-yf(x)}$. Using the result of 2.1 we have \n",
    "\n",
    "$$\n",
    "\\begin{align*}\n",
    "\\mathbf{E}[\\ell(yf(x)|x] &= e^{f(x)} + \\pi(x)(e^{-f(x)} - e^{f(x)})\\\\\n",
    "\\end{align*}\n",
    "$$\n",
    "\n",
    "For a fixed $x$ we can differentiate wrt to $f(x)$ to find the empirical risk minimizer\n",
    "\n",
    "$$\n",
    "\\begin{align*}\n",
    "0 &= \\frac{d}{df(x)}\\left[e^{f(x)} + \\pi(x)(e^{-f(x)} - e^{f(x)})\\right]\\\\\n",
    "0 &= e^{f(x)} + \\pi(x)\\left(-e^{-f(x)} - e^{f(x)}\\right)\\\\\n",
    "\\pi(x) &= \\frac{-e^{f(x)}}{y\\left(-e^{-f(x)} - e^{f(x)}\\right)}\\\\\n",
    "\\pi(x) &= \\frac{1}{\\left(e^{-2f(x)} + 1\\right)}\\\\\n",
    "\\end{align*}\n",
    "$$\n",
    "\n",
    "The optimal prediction function can be solved from the conditional probability\n",
    "\n",
    "$$\n",
    "\\begin{align*}\n",
    "\\pi(x) &= \\frac{1}{\\left(e^{-2f(x)} + 1\\right)}\\\\\n",
    "\\frac{1}{\\pi(x)} -1 &= e^{-2f(x)}\\\\\n",
    "-2f(x) &= \\log\\left(\\frac{1 - \\pi(x)}{\\pi(x)}\\right)\\\\\n",
    "f(x) &= \\frac{1}{2}\\log\\left(\\frac{\\pi(x)}{1 - \\pi(x)}\\right)\\\\\n",
    "\\end{align*}\n",
    "$$"
   ]
  },
  {
   "cell_type": "markdown",
   "metadata": {},
   "source": [
    "### Problem 2.3"
   ]
  },
  {
   "cell_type": "markdown",
   "metadata": {},
   "source": [
    "The logistic loss function is given by $\\ell(y, f(x)) = \\log\\left(1+e^{-yf(x)}\\right)$. Using 2.1 we can again write the empirical risk minimizer as \n",
    "\n",
    "$$\n",
    "\\begin{align*}\n",
    "\\mathbf{E}[\\ell(yf(x))|x] &= \\log(1+e^{f(x)}) + \\pi(x)\\left[\\log(1+ e^{-f(x)}) - \\log(1+e^{f(x)})\\right]\\\\\n",
    "\\end{align*}\n",
    "$$"
   ]
  },
  {
   "cell_type": "markdown",
   "metadata": {},
   "source": [
    "Taking the derivative wrt to $f(x)$ we find the conditional probability of the empirical risk minimizer\n",
    "\n",
    "$$\n",
    "\\begin{align*}\n",
    "0 &= \\frac{e^{f(x)}}{1+e^{f(x)}} + \\pi(x)\\left[\\frac{-e^{-f(x)}}{1+e^{-f(x)}} - \\frac{e^{f(x)}}{1+e^{f(x)}}\\right]\\\\\n",
    "\\frac{-e^{f(x)}}{1+e^{f(x)}} &= \\pi(x)\\left[\\frac{-e^{-f(x)}}{1+e^{-f(x)}} - \\frac{1}{1+e^{-f(x)}}\\right]\\\\\n",
    "\\pi(x) &= \\frac{1}{1+e^{-f(x)}}\n",
    "\\end{align*}\n",
    "$$"
   ]
  },
  {
   "cell_type": "markdown",
   "metadata": {},
   "source": [
    "### Problem 2.4"
   ]
  },
  {
   "cell_type": "markdown",
   "metadata": {},
   "source": [
    "The hinge loss is given by $\\ell(y, f(x)) = \\max(0, 1- yf(x))$. From 2.1 we have the empirical risk\n",
    "\n",
    "$$\n",
    "\\begin{align*}\n",
    "\\mathbf{E}[\\ell(yf(x))|x] &= \\max(0, 1 + f(x)) + \\pi(x)\\left[\\max(0, 1 - f(x)) - \\max(0, 1 + f(x)))\\right]\\\\\n",
    "\\end{align*}\n",
    "$$"
   ]
  },
  {
   "cell_type": "code",
   "execution_count": null,
   "metadata": {},
   "outputs": [],
   "source": []
  }
 ],
 "metadata": {
  "kernelspec": {
   "display_name": "Python 3",
   "language": "python",
   "name": "python3"
  },
  "language_info": {
   "codemirror_mode": {
    "name": "ipython",
    "version": 3
   },
   "file_extension": ".py",
   "mimetype": "text/x-python",
   "name": "python",
   "nbconvert_exporter": "python",
   "pygments_lexer": "ipython3",
   "version": "3.6.6"
  }
 },
 "nbformat": 4,
 "nbformat_minor": 2
}
